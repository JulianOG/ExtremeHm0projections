{
 "cells": [
  {
   "cell_type": "markdown",
   "metadata": {},
   "source": [
    "# Example code to predict future extreme significant wave heights globally\n",
    "\n",
    "CSIRO 2021-05-21\n",
    "\n",
    "Based on the change factor downscalling analysis presented in:\n",
    "\n",
    "O’Grady, J.G., Hemer, M.A., McInnes, K.L. et al. Projected incremental changes to extreme wind-driven wave heights for the twenty-first century. Sci Rep 11, 8826 (2021). https://doi.org/10.1038/s41598-021-87358-w\n",
    "\n",
    "CSIRO Data Access Portal https://doi.org/10.25919/82cw-8w26"
   ]
  },
  {
   "cell_type": "code",
   "execution_count": 1,
   "metadata": {
    "tags": []
   },
   "outputs": [],
   "source": [
    "#required modules for Python 3\n",
    "import xarray as xr\n",
    "import matplotlib.pyplot as plt\n",
    "import numpy as np\n",
    "import cartopy.crs as ccrs\n",
    "\n",
    "#xr.set_options(display_style = 'text')"
   ]
  },
  {
   "cell_type": "code",
   "execution_count": 2,
   "metadata": {
    "collapsed": true,
    "tags": []
   },
   "outputs": [],
   "source": [
    "#online data https://doi.org/10.25919/82cw-8w26 \n",
    "threddsdir =  \"https://data-cbr.csiro.au//thredds/dodsC/catch_all/OA_SLE_archive/COWCLIP/EXTREMES/EVA_R/CSIRO_withMidCentury/\""
   ]
  },
  {
   "cell_type": "code",
   "execution_count": 3,
   "metadata": {},
   "outputs": [
    {
     "data": {
      "text/plain": [
       "<xarray.Dataset>\n",
       "Dimensions:        (Latitude: 160, Longitude: 360, Parameter: 3)\n",
       "Coordinates:\n",
       "  * Longitude      (Longitude) float64 -179.5 -178.5 -177.5 ... 178.5 179.5\n",
       "  * Latitude       (Latitude) float64 79.54 78.54 77.54 ... -77.46 -78.46 -79.46\n",
       "  * Parameter      (Parameter) int32 1 2 3\n",
       "Data variables:\n",
       "    crs            int32 ...\n",
       "    GEVparameters  (Parameter, Latitude, Longitude) float32 ...\n",
       "Attributes:\n",
       "    Conventions:                     CF-1.7\n",
       "    created_by:                      R, packages ncdf4 and raster (version 3....\n",
       "    date:                            2021-05-17 16:14:56\n",
       "    creator_name:                    Julian O'Grady CSIRO\n",
       "    creator_email:                   julian.ogrady@csiro.au\n",
       "    reference:                       https://doi.org/10.1038/s41598-021-87358-w\n",
       "    title:                           O�Grady, J.G., Hemer, M.A., McInnes, K.L...\n",
       "    summary:                         GEV parameters (1=location, 2=scale, 3=s...\n",
       "    keywords:                        COWCLIP, extreme, significant wave heigh...\n",
       "    geospatial_bounds_crs:           EPSG:4326\n",
       "    geospatial_bounds:               POLYGON ((-180.042 -79.9583, -180.042 80...\n",
       "    geospatial_lat_min:              -79.45829772949219\n",
       "    geospatial_lat_max:              79.54170227050781\n",
       "    geospatial_lon_min:              -179.54200744628906\n",
       "    geospatial_lon_max:              179.45799255371094\n",
       "    grid_mapping_name:               latitude_longitude\n",
       "    licence:                         Creative Commons Attribution 4.0 (CC-BY ...\n",
       "    history:                         CSIRO internal https://bitbucket.csiro.a...\n",
       "    Disclaimer:                      The data available in this file are gene...\n",
       "    DODS_EXTRA.Unlimited_Dimension:  Parameter"
      ]
     },
     "execution_count": 3,
     "metadata": {},
     "output_type": "execute_result"
    }
   ],
   "source": [
    "#read in the netcdf files\n",
    "GEVparam = xr.open_dataset(threddsdir+\"CAWCR_GEVparameters.nc\")\n",
    "dHm0_rcp85 = xr.open_dataset(threddsdir+\"dHm0_rcp85_Ensemble_stats.nc\")\n",
    "GEVparam"
   ]
  },
  {
   "cell_type": "code",
   "execution_count": 4,
   "metadata": {},
   "outputs": [
    {
     "data": {
      "text/plain": [
       "'The data available in this file are generated through numerical modelling performed by CSIRO based on a range of input datasets to help communicate risks associated with future changes to wind-waves. All information and data found in this file was generated for research purposes. While every effort has been made to ensure data accuracy, the developers make no warranty (expressed or implied) regarding accuracy, completeness, function or capability of the file and associated data. The data is not provided as professional advice, and the user assumes any risk associated with use, possession or reliance on content for decision making. The developers expressly disclaim liability for any loss arising from use of this file and the information contained therein. The models incorporated here are general in nature and more detailed studies may be required for individual regions'"
      ]
     },
     "execution_count": 4,
     "metadata": {},
     "output_type": "execute_result"
    }
   ],
   "source": [
    "#WE STRONGLY RECOMMEND USING YOUR OWN GEV PARAMETERS FITTED TO BUOY DATA, OR A CALIBRATED HINDCAST\n",
    "GEVparam.Disclaimer"
   ]
  },
  {
   "cell_type": "code",
   "execution_count": 5,
   "metadata": {
    "collapsed": true
   },
   "outputs": [],
   "source": [
    "%matplotlib inline\n",
    "plt.rcParams['figure.figsize'] = [15, 10]\n",
    "plt.rcParams.update({'font.size': 22})"
   ]
  },
  {
   "cell_type": "code",
   "execution_count": 6,
   "metadata": {},
   "outputs": [
    {
     "data": {
      "image/png": "",
      "text/plain": [
       "<Figure size 1080x720 with 2 Axes>"
      ]
     },
     "metadata": {},
     "output_type": "display_data"
    }
   ],
   "source": [
    "# plot a map of the CAWCR hindcast GEV shape parameter\n",
    "ax = plt.axes(projection=ccrs.PlateCarree())\n",
    "ax.coastlines()\n",
    "GEVparam.GEVparameters[2].plot()\n",
    "plt.show()"
   ]
  },
  {
   "cell_type": "code",
   "execution_count": 7,
   "metadata": {
    "collapsed": true
   },
   "outputs": [],
   "source": [
    "#function to compute the return level (RL) from a generalised extreme value (GEV) distribution\n",
    "def GEV_RL(AEP,location,scale,shape):\n",
    "    RL = location + (scale * ((-np.log(1. - AEP))**(-shape) - 1.))/shape\n",
    "    return RL"
   ]
  },
  {
   "cell_type": "code",
   "execution_count": 8,
   "metadata": {},
   "outputs": [
    {
     "data": {
      "image/png": "",
      "text/plain": [
       "<Figure size 1080x720 with 2 Axes>"
      ]
     },
     "metadata": {},
     "output_type": "display_data"
    }
   ],
   "source": [
    "ax = plt.axes(projection=ccrs.PlateCarree())\n",
    "ax.coastlines()\n",
    "\n",
    "# estimate the 1 in 100 year ARI ( = 1% AEP)\n",
    "ARI = 100 #Average Return Interval\n",
    "AEP = 0.01 #Annual Exceedance Probability\n",
    "RL_2015 = GEV_RL(AEP,GEVparam.GEVparameters[0],GEVparam.GEVparameters[1],GEVparam.GEVparameters[2])\n",
    "xr.DataArray(RL_2015, attrs=dict(long_name='100 year return level [m]')).plot(vmax= 20)\n",
    "plt.show()"
   ]
  },
  {
   "cell_type": "code",
   "execution_count": 9,
   "metadata": {},
   "outputs": [
    {
     "data": {
      "text/plain": [
       "<xarray.Dataset>\n",
       "Dimensions:    (Latitude: 160, Longitude: 360, Quantile: 3)\n",
       "Coordinates:\n",
       "  * Longitude  (Longitude) float64 -179.5 -178.5 -177.5 ... 177.5 178.5 179.5\n",
       "  * Latitude   (Latitude) float64 79.54 78.54 77.54 ... -77.46 -78.46 -79.46\n",
       "  * Quantile   (Quantile) int32 5 50 95\n",
       "Data variables:\n",
       "    crs        int32 ...\n",
       "    dHm0       (Quantile, Latitude, Longitude) float32 ...\n",
       "Attributes:\n",
       "    Conventions:                     CF-1.7\n",
       "    created_by:                      R, packages ncdf4 and raster (version 3....\n",
       "    date:                            2021-05-17 16:13:43\n",
       "    creator_name:                    Julian O'Grady CSIRO\n",
       "    creator_email:                   julian.ogrady@csiro.au\n",
       "    reference:                       https://doi.org/10.1038/s41598-021-87358-w\n",
       "    title:                           O�Grady, J.G., Hemer, M.A., McInnes, K.L...\n",
       "    summary:                         Change Factor for design storm (e.g. 1% ...\n",
       "    keywords:                        COWCLIP, extreme, significant wave heigh...\n",
       "    geospatial_bounds_crs:           EPSG:4326\n",
       "    geospatial_bounds:               POLYGON ((-180.042 -79.9583, -180.042 80...\n",
       "    geospatial_lat_min:              -79.45829772949219\n",
       "    geospatial_lat_max:              79.54170227050781\n",
       "    geospatial_lon_min:              -179.54200744628906\n",
       "    geospatial_lon_max:              179.45799255371094\n",
       "    grid_mapping_name:               latitude_longitude\n",
       "    licence:                         Creative Commons Attribution 4.0 (CC-BY ...\n",
       "    history:                         CSIRO internal https://bitbucket.csiro.a...\n",
       "    Disclaimer:                      The data available in this file are gene...\n",
       "    DODS_EXTRA.Unlimited_Dimension:  Quantile"
      ]
     },
     "execution_count": 9,
     "metadata": {},
     "output_type": "execute_result"
    }
   ],
   "source": [
    "dHm0_rcp85"
   ]
  },
  {
   "cell_type": "code",
   "execution_count": 10,
   "metadata": {},
   "outputs": [
    {
     "data": {
      "image/png": "",
      "text/plain": [
       "<Figure size 720x360 with 2 Axes>"
      ]
     },
     "metadata": {},
     "output_type": "display_data"
    },
    {
     "data": {
      "image/png": "",
      "text/plain": [
       "<Figure size 720x360 with 2 Axes>"
      ]
     },
     "metadata": {},
     "output_type": "display_data"
    },
    {
     "data": {
      "image/png": "",
      "text/plain": [
       "<Figure size 720x360 with 2 Axes>"
      ]
     },
     "metadata": {},
     "output_type": "display_data"
    }
   ],
   "source": [
    "plt.rcParams['figure.figsize'] = [10, 5]\n",
    "plt.rcParams.update({'font.size': 22})\n",
    "\n",
    "#plot the incremental change from the base year 2015 to the year 2100 for the rcp8.5 scinario\n",
    "#quantiles correspond to the low end (5) mid (50) and high end estimates of the 8 GWCM ensemble\n",
    "\n",
    "nyrs = (2100.-2015.)\n",
    "dRL_2100 = dHm0_rcp85.dHm0*nyrs\n",
    "\n",
    "ax = plt.axes(projection=ccrs.PlateCarree())\n",
    "ax.coastlines()\n",
    "dRL_2100.isel(Quantile=0).plot()\n",
    "plt.show()\n",
    "\n",
    "ax = plt.axes(projection=ccrs.PlateCarree())\n",
    "ax.coastlines()\n",
    "dRL_2100.isel(Quantile=1).plot()\n",
    "plt.show()\n",
    "\n",
    "ax = plt.axes(projection=ccrs.PlateCarree())\n",
    "ax.coastlines()\n",
    "dRL_2100.isel(Quantile=2).plot()\n",
    "plt.show()"
   ]
  },
  {
   "cell_type": "code",
   "execution_count": 11,
   "metadata": {},
   "outputs": [
    {
     "data": {
      "image/png": "",
      "text/plain": [
       "<Figure size 1080x720 with 1 Axes>"
      ]
     },
     "metadata": {},
     "output_type": "display_data"
    }
   ],
   "source": [
    "plt.rcParams['figure.figsize'] = [15, 10]\n",
    "plt.rcParams.update({'font.size': 22})\n",
    "\n",
    "#plot ARI Return Level curve for a given point (ilon,ilat)\n",
    "ARI = np.array([1,2,5,10,20,50,100,200]) #Average exceedence interval [years]\n",
    "AEP =  AEP = 1-np.exp(-1.0/ARI) #Annual Exceedence probablity\n",
    "\n",
    "#select a lat and long point\n",
    "ilon = 100.0\n",
    "ilat = -55.0\n",
    "\n",
    "#linear interpolated gridded data to ilon, ilat point\n",
    "iGEV = GEVparam.GEVparameters.interp(Longitude=ilon, Latitude=ilat, method=\"linear\")\n",
    "\n",
    "#compute the RLs for different AEPs\n",
    "RL_2015 = GEV_RL(AEP,iGEV[0].data,iGEV[1].data,iGEV[2].data)\n",
    "\n",
    "#linear interpolated gridded data to ilon, ilat point\n",
    "dHm0_rcp85_to2100 = dHm0_rcp85.dHm0.interp(Longitude=ilon, Latitude=ilat, method=\"linear\")\n",
    "\n",
    "#downscale the climate to 2100 by added a change factor\n",
    "#add the incremental change (dHm0) multipled by the number of years from 2015 to the 2100 RL.\n",
    "nyrs = (2100.-2015.)\n",
    "RL_2100_low = RL_2015+dHm0_rcp85_to2100[0].data*nyrs\n",
    "RL_2100_mid = RL_2015+dHm0_rcp85_to2100[1].data*nyrs\n",
    "RL_2100_high = RL_2015+dHm0_rcp85_to2100[2].data*nyrs\n",
    "\n",
    "plt.plot(ARI,RL_2015, label=\"2015\",color=\"black\")\n",
    "plt.plot(ARI,RL_2100_high, label=\"2100 high end GCM ensemble\",color=\"red\")\n",
    "plt.plot(ARI,RL_2100_mid, label=\"2100 mid GCM ensemble\",color=\"orange\")\n",
    "plt.plot(ARI,RL_2100_low, label=\"2100 low end GCM ensemble\",color=\"tan\")\n",
    "plt.legend()\n",
    "plt.grid()\n",
    "plt.xscale('log')\n",
    "plt.ylabel(\"Significant Wave Height [m]\")\n",
    "plt.xlabel(\"ARI [years]\")\n",
    "plt.title(\"Return Level Plot\")\n",
    "plt.show()"
   ]
  }
 ],
 "metadata": {
  "kernelspec": {
   "display_name": "Python 3",
   "language": "python",
   "name": "python3"
  },
  "language_info": {
   "codemirror_mode": {
    "name": "ipython",
    "version": 3
   },
   "file_extension": ".py",
   "mimetype": "text/x-python",
   "name": "python",
   "nbconvert_exporter": "python",
   "pygments_lexer": "ipython3",
   "version": "3.6.1"
  }
 },
 "nbformat": 4,
 "nbformat_minor": 4
}
